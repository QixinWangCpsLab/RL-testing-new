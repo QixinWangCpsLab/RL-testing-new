{
 "cells": [
  {
   "cell_type": "code",
   "execution_count": 1,
   "metadata": {},
   "outputs": [
    {
     "name": "stdout",
     "output_type": "stream",
     "text": [
      "Obtaining file:///home/shiyu/Github/RL-testing-new\n",
      "  Installing build dependencies: started\n",
      "  Installing build dependencies: finished with status 'done'\n",
      "  Checking if build backend supports build_editable: started\n",
      "  Checking if build backend supports build_editable: finished with status 'done'\n",
      "  Getting requirements to build editable: started\n",
      "  Getting requirements to build editable: finished with status 'done'\n",
      "  Installing backend dependencies: started\n",
      "  Installing backend dependencies: finished with status 'done'\n",
      "  Preparing editable metadata (pyproject.toml): started\n",
      "  Preparing editable metadata (pyproject.toml): finished with status 'done'\n",
      "Requirement already satisfied: gymnasium<0.30,>=0.28.1 in /home/shiyu/miniconda3/envs/RL-Testing-new/lib/python3.12/site-packages (from stable_baselines3==2.3.0a3) (0.29.1)\n",
      "Requirement already satisfied: numpy>=1.20 in /home/shiyu/miniconda3/envs/RL-Testing-new/lib/python3.12/site-packages (from stable_baselines3==2.3.0a3) (1.26.4)\n",
      "Requirement already satisfied: torch>=1.13 in /home/shiyu/miniconda3/envs/RL-Testing-new/lib/python3.12/site-packages (from stable_baselines3==2.3.0a3) (2.2.2)\n",
      "Requirement already satisfied: cloudpickle in /home/shiyu/miniconda3/envs/RL-Testing-new/lib/python3.12/site-packages (from stable_baselines3==2.3.0a3) (3.0.0)\n",
      "Requirement already satisfied: pandas in /home/shiyu/miniconda3/envs/RL-Testing-new/lib/python3.12/site-packages (from stable_baselines3==2.3.0a3) (2.2.1)\n",
      "Requirement already satisfied: matplotlib in /home/shiyu/miniconda3/envs/RL-Testing-new/lib/python3.12/site-packages (from stable_baselines3==2.3.0a3) (3.8.3)\n",
      "Requirement already satisfied: typing-extensions>=4.3.0 in /home/shiyu/miniconda3/envs/RL-Testing-new/lib/python3.12/site-packages (from gymnasium<0.30,>=0.28.1->stable_baselines3==2.3.0a3) (4.10.0)\n",
      "Requirement already satisfied: farama-notifications>=0.0.1 in /home/shiyu/miniconda3/envs/RL-Testing-new/lib/python3.12/site-packages (from gymnasium<0.30,>=0.28.1->stable_baselines3==2.3.0a3) (0.0.4)\n",
      "Requirement already satisfied: filelock in /home/shiyu/miniconda3/envs/RL-Testing-new/lib/python3.12/site-packages (from torch>=1.13->stable_baselines3==2.3.0a3) (3.13.3)\n",
      "Requirement already satisfied: sympy in /home/shiyu/miniconda3/envs/RL-Testing-new/lib/python3.12/site-packages (from torch>=1.13->stable_baselines3==2.3.0a3) (1.12)\n",
      "Requirement already satisfied: networkx in /home/shiyu/miniconda3/envs/RL-Testing-new/lib/python3.12/site-packages (from torch>=1.13->stable_baselines3==2.3.0a3) (3.2.1)\n",
      "Requirement already satisfied: jinja2 in /home/shiyu/miniconda3/envs/RL-Testing-new/lib/python3.12/site-packages (from torch>=1.13->stable_baselines3==2.3.0a3) (3.1.3)\n",
      "Requirement already satisfied: fsspec in /home/shiyu/miniconda3/envs/RL-Testing-new/lib/python3.12/site-packages (from torch>=1.13->stable_baselines3==2.3.0a3) (2024.3.1)\n",
      "Requirement already satisfied: nvidia-cuda-nvrtc-cu12==12.1.105 in /home/shiyu/miniconda3/envs/RL-Testing-new/lib/python3.12/site-packages (from torch>=1.13->stable_baselines3==2.3.0a3) (12.1.105)\n",
      "Requirement already satisfied: nvidia-cuda-runtime-cu12==12.1.105 in /home/shiyu/miniconda3/envs/RL-Testing-new/lib/python3.12/site-packages (from torch>=1.13->stable_baselines3==2.3.0a3) (12.1.105)\n",
      "Requirement already satisfied: nvidia-cuda-cupti-cu12==12.1.105 in /home/shiyu/miniconda3/envs/RL-Testing-new/lib/python3.12/site-packages (from torch>=1.13->stable_baselines3==2.3.0a3) (12.1.105)\n",
      "Requirement already satisfied: nvidia-cudnn-cu12==8.9.2.26 in /home/shiyu/miniconda3/envs/RL-Testing-new/lib/python3.12/site-packages (from torch>=1.13->stable_baselines3==2.3.0a3) (8.9.2.26)\n",
      "Requirement already satisfied: nvidia-cublas-cu12==12.1.3.1 in /home/shiyu/miniconda3/envs/RL-Testing-new/lib/python3.12/site-packages (from torch>=1.13->stable_baselines3==2.3.0a3) (12.1.3.1)\n",
      "Requirement already satisfied: nvidia-cufft-cu12==11.0.2.54 in /home/shiyu/miniconda3/envs/RL-Testing-new/lib/python3.12/site-packages (from torch>=1.13->stable_baselines3==2.3.0a3) (11.0.2.54)\n",
      "Requirement already satisfied: nvidia-curand-cu12==10.3.2.106 in /home/shiyu/miniconda3/envs/RL-Testing-new/lib/python3.12/site-packages (from torch>=1.13->stable_baselines3==2.3.0a3) (10.3.2.106)\n",
      "Requirement already satisfied: nvidia-cusolver-cu12==11.4.5.107 in /home/shiyu/miniconda3/envs/RL-Testing-new/lib/python3.12/site-packages (from torch>=1.13->stable_baselines3==2.3.0a3) (11.4.5.107)\n",
      "Requirement already satisfied: nvidia-cusparse-cu12==12.1.0.106 in /home/shiyu/miniconda3/envs/RL-Testing-new/lib/python3.12/site-packages (from torch>=1.13->stable_baselines3==2.3.0a3) (12.1.0.106)\n",
      "Requirement already satisfied: nvidia-nccl-cu12==2.19.3 in /home/shiyu/miniconda3/envs/RL-Testing-new/lib/python3.12/site-packages (from torch>=1.13->stable_baselines3==2.3.0a3) (2.19.3)\n",
      "Requirement already satisfied: nvidia-nvtx-cu12==12.1.105 in /home/shiyu/miniconda3/envs/RL-Testing-new/lib/python3.12/site-packages (from torch>=1.13->stable_baselines3==2.3.0a3) (12.1.105)\n",
      "Requirement already satisfied: nvidia-nvjitlink-cu12 in /home/shiyu/miniconda3/envs/RL-Testing-new/lib/python3.12/site-packages (from nvidia-cusolver-cu12==11.4.5.107->torch>=1.13->stable_baselines3==2.3.0a3) (12.4.99)\n",
      "Requirement already satisfied: contourpy>=1.0.1 in /home/shiyu/miniconda3/envs/RL-Testing-new/lib/python3.12/site-packages (from matplotlib->stable_baselines3==2.3.0a3) (1.2.0)\n",
      "Requirement already satisfied: cycler>=0.10 in /home/shiyu/miniconda3/envs/RL-Testing-new/lib/python3.12/site-packages (from matplotlib->stable_baselines3==2.3.0a3) (0.12.1)\n",
      "Requirement already satisfied: fonttools>=4.22.0 in /home/shiyu/miniconda3/envs/RL-Testing-new/lib/python3.12/site-packages (from matplotlib->stable_baselines3==2.3.0a3) (4.50.0)\n",
      "Requirement already satisfied: kiwisolver>=1.3.1 in /home/shiyu/miniconda3/envs/RL-Testing-new/lib/python3.12/site-packages (from matplotlib->stable_baselines3==2.3.0a3) (1.4.5)\n",
      "Requirement already satisfied: packaging>=20.0 in /home/shiyu/miniconda3/envs/RL-Testing-new/lib/python3.12/site-packages (from matplotlib->stable_baselines3==2.3.0a3) (24.0)\n",
      "Requirement already satisfied: pillow>=8 in /home/shiyu/miniconda3/envs/RL-Testing-new/lib/python3.12/site-packages (from matplotlib->stable_baselines3==2.3.0a3) (10.2.0)\n",
      "Requirement already satisfied: pyparsing>=2.3.1 in /home/shiyu/miniconda3/envs/RL-Testing-new/lib/python3.12/site-packages (from matplotlib->stable_baselines3==2.3.0a3) (3.1.2)\n",
      "Requirement already satisfied: python-dateutil>=2.7 in /home/shiyu/miniconda3/envs/RL-Testing-new/lib/python3.12/site-packages (from matplotlib->stable_baselines3==2.3.0a3) (2.9.0)\n",
      "Requirement already satisfied: pytz>=2020.1 in /home/shiyu/miniconda3/envs/RL-Testing-new/lib/python3.12/site-packages (from pandas->stable_baselines3==2.3.0a3) (2024.1)\n",
      "Requirement already satisfied: tzdata>=2022.7 in /home/shiyu/miniconda3/envs/RL-Testing-new/lib/python3.12/site-packages (from pandas->stable_baselines3==2.3.0a3) (2024.1)\n",
      "Requirement already satisfied: six>=1.5 in /home/shiyu/miniconda3/envs/RL-Testing-new/lib/python3.12/site-packages (from python-dateutil>=2.7->matplotlib->stable_baselines3==2.3.0a3) (1.16.0)\n",
      "Requirement already satisfied: MarkupSafe>=2.0 in /home/shiyu/miniconda3/envs/RL-Testing-new/lib/python3.12/site-packages (from jinja2->torch>=1.13->stable_baselines3==2.3.0a3) (2.1.5)\n",
      "Requirement already satisfied: mpmath>=0.19 in /home/shiyu/miniconda3/envs/RL-Testing-new/lib/python3.12/site-packages (from sympy->torch>=1.13->stable_baselines3==2.3.0a3) (1.3.0)\n",
      "Building wheels for collected packages: stable_baselines3\n",
      "  Building editable for stable_baselines3 (pyproject.toml): started\n",
      "  Building editable for stable_baselines3 (pyproject.toml): finished with status 'done'\n",
      "  Created wheel for stable_baselines3: filename=stable_baselines3-2.3.0a3-0.editable-py3-none-any.whl size=6118 sha256=9fa35dd089b9b411506a3e93f05018e2959e96fb27fd7482d26b524af7b4a3b7\n",
      "  Stored in directory: /tmp/pip-ephem-wheel-cache-1ux0yrw6/wheels/31/4b/c7/bc83d4779546994ca240421304d87fd6fccfebbbb89a75303b\n",
      "Successfully built stable_baselines3\n",
      "Installing collected packages: stable_baselines3\n",
      "  Attempting uninstall: stable_baselines3\n",
      "    Found existing installation: stable_baselines3 2.3.0a3\n",
      "    Uninstalling stable_baselines3-2.3.0a3:\n",
      "      Successfully uninstalled stable_baselines3-2.3.0a3\n",
      "Successfully installed stable_baselines3-2.3.0a3\n"
     ]
    }
   ],
   "source": [
    "import sys\n",
    "sys.path.insert(0, '..')\n",
    "import bug_lib as BL\n",
    "\n",
    "\n",
    "bug_version_list = [\n",
    "    [],\n",
    "    [5],\n",
    "    [6],\n",
    "    [7],\n",
    "    [8],\n",
    "    [10],\n",
    "    [11],\n",
    "    [12],\n",
    "    [13],\n",
    "    [14],\n",
    "    [15]\n",
    "]\n",
    "\n",
    "bug_version = []\n",
    "\n",
    "BL.cover_then_inject_bugs(bug_version)"
   ]
  },
  {
   "cell_type": "markdown",
   "metadata": {},
   "source": [
    "After Injecting bugs, Restart the ipy kernal."
   ]
  },
  {
   "cell_type": "code",
   "execution_count": 1,
   "metadata": {},
   "outputs": [
    {
     "ename": "FileNotFoundError",
     "evalue": "The directory '/home/shiyu/Github/RL-testing-new/RLTesting/human_oracle/tensorboard_logs/Frozenlake-bugfree' does not exist",
     "output_type": "error",
     "traceback": [
      "\u001b[0;31m---------------------------------------------------------------------------\u001b[0m",
      "\u001b[0;31mFileNotFoundError\u001b[0m                         Traceback (most recent call last)",
      "Cell \u001b[0;32mIn[1], line 38\u001b[0m\n\u001b[1;32m     33\u001b[0m     generate_gif(model, \u001b[38;5;124mf\u001b[39m\u001b[38;5;124m\"\u001b[39m\u001b[38;5;124m./tensorboard_logs/\u001b[39m\u001b[38;5;132;01m{\u001b[39;00mtb_log_name\u001b[38;5;132;01m}\u001b[39;00m\u001b[38;5;124m/after_training.gif\u001b[39m\u001b[38;5;124m\"\u001b[39m)\n\u001b[1;32m     35\u001b[0m     \u001b[38;5;28;01mreturn\u001b[39;00m model\n\u001b[0;32m---> 38\u001b[0m model_run1 \u001b[38;5;241m=\u001b[39m \u001b[43mtrain_frozen_lake\u001b[49m\u001b[43m(\u001b[49m\u001b[43mtestbed\u001b[49m\u001b[38;5;241;43m=\u001b[39;49m\u001b[38;5;124;43m'\u001b[39;49m\u001b[38;5;124;43mFrozenlake\u001b[39;49m\u001b[38;5;124;43m'\u001b[39;49m\u001b[43m,\u001b[49m\u001b[43m \u001b[49m\u001b[43mtotal_timesteps\u001b[49m\u001b[38;5;241;43m=\u001b[39;49m\u001b[38;5;241;43m5000\u001b[39;49m\u001b[43m,\u001b[49m\u001b[43m \u001b[49m\u001b[43mtb_log_name\u001b[49m\u001b[38;5;241;43m=\u001b[39;49m\u001b[38;5;124;43m\"\u001b[39;49m\u001b[38;5;124;43mFrozenlake-bugfree\u001b[39;49m\u001b[38;5;124;43m\"\u001b[39;49m\u001b[43m)\u001b[49m\n\u001b[1;32m     39\u001b[0m model_run2 \u001b[38;5;241m=\u001b[39m train_frozen_lake(testbed\u001b[38;5;241m=\u001b[39m\u001b[38;5;124m'\u001b[39m\u001b[38;5;124mMountaincar\u001b[39m\u001b[38;5;124m'\u001b[39m, total_timesteps\u001b[38;5;241m=\u001b[39m\u001b[38;5;241m10000\u001b[39m, tb_log_name\u001b[38;5;241m=\u001b[39m\u001b[38;5;124m\"\u001b[39m\u001b[38;5;124mMountaincar_bug1\u001b[39m\u001b[38;5;124m\"\u001b[39m)\n",
      "Cell \u001b[0;32mIn[1], line 28\u001b[0m, in \u001b[0;36mtrain_frozen_lake\u001b[0;34m(testbed, total_timesteps, tb_log_name)\u001b[0m\n\u001b[1;32m     25\u001b[0m model \u001b[38;5;241m=\u001b[39m PPO(\u001b[38;5;124m\"\u001b[39m\u001b[38;5;124mMlpPolicy\u001b[39m\u001b[38;5;124m\"\u001b[39m, env, tensorboard_log\u001b[38;5;241m=\u001b[39m\u001b[38;5;124mf\u001b[39m\u001b[38;5;124m\"\u001b[39m\u001b[38;5;124m./tensorboard_logs/\u001b[39m\u001b[38;5;132;01m{\u001b[39;00mtb_log_name\u001b[38;5;132;01m}\u001b[39;00m\u001b[38;5;124m/\u001b[39m\u001b[38;5;124m\"\u001b[39m)\n\u001b[1;32m     27\u001b[0m \u001b[38;5;66;03m# 在开始训练之前生成GIF\u001b[39;00m\n\u001b[0;32m---> 28\u001b[0m \u001b[43mgenerate_gif\u001b[49m\u001b[43m(\u001b[49m\u001b[43mmodel\u001b[49m\u001b[43m,\u001b[49m\u001b[43m \u001b[49m\u001b[38;5;124;43mf\u001b[39;49m\u001b[38;5;124;43m\"\u001b[39;49m\u001b[38;5;124;43m./tensorboard_logs/\u001b[39;49m\u001b[38;5;132;43;01m{\u001b[39;49;00m\u001b[43mtb_log_name\u001b[49m\u001b[38;5;132;43;01m}\u001b[39;49;00m\u001b[38;5;124;43m/before_training.gif\u001b[39;49m\u001b[38;5;124;43m\"\u001b[39;49m\u001b[43m)\u001b[49m\n\u001b[1;32m     30\u001b[0m model\u001b[38;5;241m.\u001b[39mlearn(total_timesteps\u001b[38;5;241m=\u001b[39mtotal_timesteps, tb_log_name\u001b[38;5;241m=\u001b[39mtb_log_name)\n\u001b[1;32m     32\u001b[0m \u001b[38;5;66;03m# 在训练完成之后生成GIF\u001b[39;00m\n",
      "Cell \u001b[0;32mIn[1], line 17\u001b[0m, in \u001b[0;36mgenerate_gif\u001b[0;34m(model, output_path, num_steps, fps)\u001b[0m\n\u001b[1;32m     14\u001b[0m     obs, _, _, _ \u001b[38;5;241m=\u001b[39m model\u001b[38;5;241m.\u001b[39menv\u001b[38;5;241m.\u001b[39mstep(action)\n\u001b[1;32m     15\u001b[0m     img \u001b[38;5;241m=\u001b[39m model\u001b[38;5;241m.\u001b[39menv\u001b[38;5;241m.\u001b[39mrender(mode\u001b[38;5;241m=\u001b[39m\u001b[38;5;124m\"\u001b[39m\u001b[38;5;124mrgb_array\u001b[39m\u001b[38;5;124m\"\u001b[39m)\n\u001b[0;32m---> 17\u001b[0m \u001b[43mimageio\u001b[49m\u001b[38;5;241;43m.\u001b[39;49m\u001b[43mmimsave\u001b[49m\u001b[43m(\u001b[49m\u001b[43moutput_path\u001b[49m\u001b[43m,\u001b[49m\u001b[43m \u001b[49m\u001b[43m[\u001b[49m\u001b[43mnp\u001b[49m\u001b[38;5;241;43m.\u001b[39;49m\u001b[43marray\u001b[49m\u001b[43m(\u001b[49m\u001b[43mimg\u001b[49m\u001b[43m)\u001b[49m\u001b[43m \u001b[49m\u001b[38;5;28;43;01mfor\u001b[39;49;00m\u001b[43m \u001b[49m\u001b[43mi\u001b[49m\u001b[43m,\u001b[49m\u001b[43m \u001b[49m\u001b[43mimg\u001b[49m\u001b[43m \u001b[49m\u001b[38;5;129;43;01min\u001b[39;49;00m\u001b[43m \u001b[49m\u001b[38;5;28;43menumerate\u001b[39;49m\u001b[43m(\u001b[49m\u001b[43mimages\u001b[49m\u001b[43m)\u001b[49m\u001b[43m \u001b[49m\u001b[38;5;28;43;01mif\u001b[39;49;00m\u001b[43m \u001b[49m\u001b[43mi\u001b[49m\u001b[43m \u001b[49m\u001b[38;5;241;43m%\u001b[39;49m\u001b[43m \u001b[49m\u001b[38;5;241;43m2\u001b[39;49m\u001b[43m \u001b[49m\u001b[38;5;241;43m==\u001b[39;49m\u001b[43m \u001b[49m\u001b[38;5;241;43m0\u001b[39;49m\u001b[43m]\u001b[49m\u001b[43m,\u001b[49m\u001b[43m \u001b[49m\u001b[43mfps\u001b[49m\u001b[38;5;241;43m=\u001b[39;49m\u001b[43mfps\u001b[49m\u001b[43m)\u001b[49m\n",
      "File \u001b[0;32m~/miniconda3/envs/RL-Testing-new/lib/python3.12/site-packages/imageio/v2.py:494\u001b[0m, in \u001b[0;36mmimwrite\u001b[0;34m(uri, ims, format, **kwargs)\u001b[0m\n\u001b[1;32m    492\u001b[0m imopen_args \u001b[38;5;241m=\u001b[39m decypher_format_arg(\u001b[38;5;28mformat\u001b[39m)\n\u001b[1;32m    493\u001b[0m imopen_args[\u001b[38;5;124m\"\u001b[39m\u001b[38;5;124mlegacy_mode\u001b[39m\u001b[38;5;124m\"\u001b[39m] \u001b[38;5;241m=\u001b[39m \u001b[38;5;28;01mTrue\u001b[39;00m\n\u001b[0;32m--> 494\u001b[0m \u001b[38;5;28;01mwith\u001b[39;00m \u001b[43mimopen\u001b[49m\u001b[43m(\u001b[49m\u001b[43muri\u001b[49m\u001b[43m,\u001b[49m\u001b[43m \u001b[49m\u001b[38;5;124;43m\"\u001b[39;49m\u001b[38;5;124;43mwI\u001b[39;49m\u001b[38;5;124;43m\"\u001b[39;49m\u001b[43m,\u001b[49m\u001b[43m \u001b[49m\u001b[38;5;241;43m*\u001b[39;49m\u001b[38;5;241;43m*\u001b[39;49m\u001b[43mimopen_args\u001b[49m\u001b[43m)\u001b[49m \u001b[38;5;28;01mas\u001b[39;00m file:\n\u001b[1;32m    495\u001b[0m     \u001b[38;5;28;01mreturn\u001b[39;00m file\u001b[38;5;241m.\u001b[39mwrite(ims, is_batch\u001b[38;5;241m=\u001b[39m\u001b[38;5;28;01mTrue\u001b[39;00m, \u001b[38;5;241m*\u001b[39m\u001b[38;5;241m*\u001b[39mkwargs)\n",
      "File \u001b[0;32m~/miniconda3/envs/RL-Testing-new/lib/python3.12/site-packages/imageio/core/imopen.py:113\u001b[0m, in \u001b[0;36mimopen\u001b[0;34m(uri, io_mode, plugin, extension, format_hint, legacy_mode, **kwargs)\u001b[0m\n\u001b[1;32m    111\u001b[0m     request\u001b[38;5;241m.\u001b[39mformat_hint \u001b[38;5;241m=\u001b[39m format_hint\n\u001b[1;32m    112\u001b[0m \u001b[38;5;28;01melse\u001b[39;00m:\n\u001b[0;32m--> 113\u001b[0m     request \u001b[38;5;241m=\u001b[39m \u001b[43mRequest\u001b[49m\u001b[43m(\u001b[49m\u001b[43muri\u001b[49m\u001b[43m,\u001b[49m\u001b[43m \u001b[49m\u001b[43mio_mode\u001b[49m\u001b[43m,\u001b[49m\u001b[43m \u001b[49m\u001b[43mformat_hint\u001b[49m\u001b[38;5;241;43m=\u001b[39;49m\u001b[43mformat_hint\u001b[49m\u001b[43m,\u001b[49m\u001b[43m \u001b[49m\u001b[43mextension\u001b[49m\u001b[38;5;241;43m=\u001b[39;49m\u001b[43mextension\u001b[49m\u001b[43m)\u001b[49m\n\u001b[1;32m    115\u001b[0m source \u001b[38;5;241m=\u001b[39m \u001b[38;5;124m\"\u001b[39m\u001b[38;5;124m<bytes>\u001b[39m\u001b[38;5;124m\"\u001b[39m \u001b[38;5;28;01mif\u001b[39;00m \u001b[38;5;28misinstance\u001b[39m(uri, \u001b[38;5;28mbytes\u001b[39m) \u001b[38;5;28;01melse\u001b[39;00m uri\n\u001b[1;32m    117\u001b[0m \u001b[38;5;66;03m# fast-path based on plugin\u001b[39;00m\n\u001b[1;32m    118\u001b[0m \u001b[38;5;66;03m# (except in legacy mode)\u001b[39;00m\n",
      "File \u001b[0;32m~/miniconda3/envs/RL-Testing-new/lib/python3.12/site-packages/imageio/core/request.py:247\u001b[0m, in \u001b[0;36mRequest.__init__\u001b[0;34m(self, uri, mode, extension, format_hint, **kwargs)\u001b[0m\n\u001b[1;32m    244\u001b[0m     \u001b[38;5;28;01mraise\u001b[39;00m \u001b[38;5;167;01mValueError\u001b[39;00m(\u001b[38;5;124mf\u001b[39m\u001b[38;5;124m\"\u001b[39m\u001b[38;5;124mInvalid Request.Mode: \u001b[39m\u001b[38;5;132;01m{\u001b[39;00mmode\u001b[38;5;132;01m}\u001b[39;00m\u001b[38;5;124m\"\u001b[39m)\n\u001b[1;32m    246\u001b[0m \u001b[38;5;66;03m# Parse what was given\u001b[39;00m\n\u001b[0;32m--> 247\u001b[0m \u001b[38;5;28;43mself\u001b[39;49m\u001b[38;5;241;43m.\u001b[39;49m\u001b[43m_parse_uri\u001b[49m\u001b[43m(\u001b[49m\u001b[43muri\u001b[49m\u001b[43m)\u001b[49m\n\u001b[1;32m    249\u001b[0m \u001b[38;5;66;03m# Set extension\u001b[39;00m\n\u001b[1;32m    250\u001b[0m \u001b[38;5;28;01mif\u001b[39;00m extension \u001b[38;5;129;01mis\u001b[39;00m \u001b[38;5;129;01mnot\u001b[39;00m \u001b[38;5;28;01mNone\u001b[39;00m:\n",
      "File \u001b[0;32m~/miniconda3/envs/RL-Testing-new/lib/python3.12/site-packages/imageio/core/request.py:412\u001b[0m, in \u001b[0;36mRequest._parse_uri\u001b[0;34m(self, uri)\u001b[0m\n\u001b[1;32m    410\u001b[0m dn \u001b[38;5;241m=\u001b[39m os\u001b[38;5;241m.\u001b[39mpath\u001b[38;5;241m.\u001b[39mdirname(fn)\n\u001b[1;32m    411\u001b[0m \u001b[38;5;28;01mif\u001b[39;00m \u001b[38;5;129;01mnot\u001b[39;00m os\u001b[38;5;241m.\u001b[39mpath\u001b[38;5;241m.\u001b[39mexists(dn):\n\u001b[0;32m--> 412\u001b[0m     \u001b[38;5;28;01mraise\u001b[39;00m \u001b[38;5;167;01mFileNotFoundError\u001b[39;00m(\u001b[38;5;124m\"\u001b[39m\u001b[38;5;124mThe directory \u001b[39m\u001b[38;5;132;01m%r\u001b[39;00m\u001b[38;5;124m does not exist\u001b[39m\u001b[38;5;124m\"\u001b[39m \u001b[38;5;241m%\u001b[39m dn)\n",
      "\u001b[0;31mFileNotFoundError\u001b[0m: The directory '/home/shiyu/Github/RL-testing-new/RLTesting/human_oracle/tensorboard_logs/Frozenlake-bugfree' does not exist"
     ]
    }
   ],
   "source": [
    "from stable_baselines3 import PPO\n",
    "import gymnasium as gym\n",
    "import imageio\n",
    "import numpy as np\n",
    "import os\n",
    "\n",
    "def generate_gif(model, output_path, num_steps=350, fps=29):\n",
    "    images = []\n",
    "    obs = model.env.reset()\n",
    "    img = model.env.render(mode=\"rgb_array\")\n",
    "    for i in range(num_steps):\n",
    "        images.append(img)\n",
    "        action, _ = model.predict(obs)\n",
    "        obs, _, _, _ = model.env.step(action)\n",
    "        img = model.env.render(mode=\"rgb_array\")\n",
    "\n",
    "    imageio.mimsave(output_path, [np.array(img) for i, img in enumerate(images) if i % 2 == 0], fps=fps)\n",
    "\n",
    "def train_frozen_lake(testbed='Frozenlake', total_timesteps=3000, tb_log_name=\"run\"):\n",
    "    if testbed == 'Frozenlake':\n",
    "        env = gym.make('FrozenLake-v1', map_name=\"4x4\", is_slippery=False, render_mode=\"rgb_array\")\n",
    "    else:\n",
    "        env = gym.make(\"MountainCarContinuous-v0\", render_mode='rgb_array')\n",
    "\n",
    "    # 检查输出路径是否存在,如果不存在则创建\n",
    "    output_path = f\"./tensorboard_logs/{tb_log_name}/\"\n",
    "    if not os.path.exists(output_path):\n",
    "        os.makedirs(output_path)\n",
    "    \n",
    "    model = PPO(\"MlpPolicy\", env, tensorboard_log=f\"./tensorboard_logs/{tb_log_name}/\")\n",
    "    \n",
    "    # 在开始训练之前生成GIF\n",
    "    generate_gif(model, f\"./tensorboard_logs/{tb_log_name}/before_training.gif\")\n",
    "    \n",
    "    model.learn(total_timesteps=total_timesteps, tb_log_name=tb_log_name)\n",
    "    \n",
    "    # 在训练完成之后生成GIF\n",
    "    generate_gif(model, f\"./tensorboard_logs/{tb_log_name}/after_training.gif\")\n",
    "    \n",
    "    return model\n",
    "\n",
    "\n",
    "model_run1 = train_frozen_lake(testbed='Frozenlake', total_timesteps=5000, tb_log_name=\"Frozenlake-bugfree\")\n",
    "# model_run2 = train_frozen_lake(testbed='Mountaincar', total_timesteps=10000, tb_log_name=\"Mountaincar_bug1\")"
   ]
  },
  {
   "cell_type": "markdown",
   "metadata": {},
   "source": [
    "Open terminal and use the following command to show tensorboard"
   ]
  },
  {
   "cell_type": "code",
   "execution_count": 2,
   "metadata": {},
   "outputs": [
    {
     "data": {
      "text/plain": [
       "<stable_baselines3.ppo.ppo.PPO at 0x7f7f7e36d120>"
      ]
     },
     "execution_count": 2,
     "metadata": {},
     "output_type": "execute_result"
    }
   ],
   "source": [
    "# tensorboard --logdir=./tensorboard_logs/"
   ]
  }
 ],
 "metadata": {
  "kernelspec": {
   "display_name": "stable-baselines3-testing-new",
   "language": "python",
   "name": "python3"
  },
  "language_info": {
   "codemirror_mode": {
    "name": "ipython",
    "version": 3
   },
   "file_extension": ".py",
   "mimetype": "text/x-python",
   "name": "python",
   "nbconvert_exporter": "python",
   "pygments_lexer": "ipython3",
   "version": "3.12.2"
  }
 },
 "nbformat": 4,
 "nbformat_minor": 2
}
