{
 "cells": [
  {
   "cell_type": "code",
   "execution_count": null,
   "metadata": {},
   "outputs": [],
   "source": [
    "import bug_lib as BL\n",
    "\n",
    "\n",
    "bug_version_list = [\n",
    "    [],\n",
    "    [5],\n",
    "    [6],\n",
    "    [7],\n",
    "    [8],\n",
    "    [10],\n",
    "    [11],\n",
    "    [12],\n",
    "    [13],\n",
    "    [14],\n",
    "    [15]\n",
    "]\n",
    "\n",
    "bug_version = []\n",
    "\n",
    "BL.cover_then_inject_bugs(bug_version)"
   ]
  },
  {
   "cell_type": "markdown",
   "metadata": {},
   "source": [
    "After Injecting bugs, Restart the ipy kernal."
   ]
  },
  {
   "cell_type": "code",
   "execution_count": 3,
   "metadata": {},
   "outputs": [
    {
     "data": {
      "text/plain": [
       "<stable_baselines3.ppo.ppo.PPO at 0x7f7f6935d510>"
      ]
     },
     "execution_count": 3,
     "metadata": {},
     "output_type": "execute_result"
    }
   ],
   "source": [
    "from stable_baselines3 import PPO\n",
    "import gymnasium as gym\n",
    "import imageio\n",
    "import numpy as np\n",
    "import os\n",
    "\n",
    "def generate_gif(model, output_path, num_steps=350, fps=29):\n",
    "    images = []\n",
    "    obs = model.env.reset()\n",
    "    img = model.env.render(mode=\"rgb_array\")\n",
    "    for i in range(num_steps):\n",
    "        images.append(img)\n",
    "        action, _ = model.predict(obs)\n",
    "        obs, _, _, _ = model.env.step(action)\n",
    "        img = model.env.render(mode=\"rgb_array\")\n",
    "\n",
    "    imageio.mimsave(output_path, [np.array(img) for i, img in enumerate(images) if i % 2 == 0], fps=fps)\n",
    "\n",
    "def train_frozen_lake(testbed='Frozenlake', total_timesteps=3000, tb_log_name=\"run\"):\n",
    "    if testbed == 'Frozenlake':\n",
    "        env = gym.make('FrozenLake-v1', map_name=\"4x4\", is_slippery=False, render_mode=\"rgb_array\")\n",
    "    else:\n",
    "        env = gym.make(\"MountainCarContinuous-v0\", render_mode='rgb_array')\n",
    "    \n",
    "    model = PPO(\"MlpPolicy\", env, tensorboard_log=f\"./tensorboard_logs/{tb_log_name}/\")\n",
    "    \n",
    "    # 在开始训练之前生成GIF\n",
    "    generate_gif(model, f\"./tensorboard_logs/{tb_log_name}/before_training.gif\")\n",
    "    \n",
    "    model.learn(total_timesteps=total_timesteps, tb_log_name=tb_log_name)\n",
    "    \n",
    "    # 在训练完成之后生成GIF\n",
    "    generate_gif(model, f\"./tensorboard_logs/{tb_log_name}/after_training.gif\")\n",
    "    \n",
    "    return model\n",
    "\n",
    "\n",
    "model_run1 = train_frozen_lake(testbed='Frozenlake', total_timesteps=5000, tb_log_name=\"Frozenlake-bugfree\")\n",
    "model_run2 = train_frozen_lake(testbed='Mountaincar', total_timesteps=10000, tb_log_name=\"Mountaincar_bug1\")"
   ]
  },
  {
   "cell_type": "markdown",
   "metadata": {},
   "source": [
    "Open terminal and use the following command to show tensorboard"
   ]
  },
  {
   "cell_type": "code",
   "execution_count": 2,
   "metadata": {},
   "outputs": [
    {
     "data": {
      "text/plain": [
       "<stable_baselines3.ppo.ppo.PPO at 0x7f7f7e36d120>"
      ]
     },
     "execution_count": 2,
     "metadata": {},
     "output_type": "execute_result"
    }
   ],
   "source": [
    "# tensorboard --logdir=./tensorboard_logs/"
   ]
  }
 ],
 "metadata": {
  "kernelspec": {
   "display_name": "stable-baselines3-testing-new",
   "language": "python",
   "name": "python3"
  },
  "language_info": {
   "codemirror_mode": {
    "name": "ipython",
    "version": 3
   },
   "file_extension": ".py",
   "mimetype": "text/x-python",
   "name": "python",
   "nbconvert_exporter": "python",
   "pygments_lexer": "ipython3",
   "version": "3.10.13"
  }
 },
 "nbformat": 4,
 "nbformat_minor": 2
}
