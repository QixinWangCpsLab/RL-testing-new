{
 "cells": [
  {
   "cell_type": "markdown",
   "metadata": {},
   "source": [
    "### Inject Bugs & Run Experiment\n",
    "\n",
    "![Inject Bugs & Run Experiment](./pic/RL_Testing.drawio.png)"
   ]
  },
  {
   "cell_type": "code",
   "execution_count": null,
   "metadata": {},
   "outputs": [],
   "source": [
    "import testing_SB3\n",
    "\n",
    "\n",
    "# initialize bug_version_list; bug_version_list中的bug序号于bug_lib.py中的序号所代表的bug一致\n",
    "bug_version_list = [\n",
    "    # [0],\n",
    "    # [1],\n",
    "    # # ...,\n",
    "    # [1,2,3]\n",
    "    # [],\n",
    "    [2],\n",
    "    [0],\n",
    "    [1],\n",
    "    [3],\n",
    "    [4],\n",
    "    [],\n",
    "]\n",
    "\n",
    "testing_SB3.main(bug_version_list)\n",
    "    "
   ]
  },
  {
   "cell_type": "markdown",
   "metadata": {},
   "source": [
    "### Validation Part"
   ]
  },
  {
   "cell_type": "markdown",
   "metadata": {},
   "source": [
    "##### Frozen-lake"
   ]
  },
  {
   "cell_type": "code",
   "execution_count": null,
   "metadata": {},
   "outputs": [],
   "source": [
    "import log_parser\n",
    "import pandas as pd\n",
    "from scipy.stats import linregress\n",
    "import matplotlib.pyplot as plt\n",
    "import numpy as np\n",
    "import os"
   ]
  },
  {
   "cell_type": "code",
   "execution_count": null,
   "metadata": {},
   "outputs": [],
   "source": [
    "def linelar_regression(data, title = 'Data Trend Analysis'):\n",
    "# data = [100, 102, 98, 97, 105, 110, 108, 112, 115, 118, 121, 125]\n",
    "# data = result\n",
    "\n",
    "    # 将数据转换成Pandas Series对象\n",
    "    series = pd.Series(data)\n",
    "\n",
    "    # 计算简单移动平均(SMA)和指数移动平均(EMA)\n",
    "    sma = series.rolling(window=3).mean()\n",
    "    ema = series.ewm(span=3, adjust=False).mean()\n",
    "\n",
    "    # 使用线性回归判断趋势\n",
    "    slope, intercept, r_value, p_value, std_err = linregress(range(len(data)), data)\n",
    "\n",
    "    # 绘制数据和趋势线\n",
    "    plt.figure(figsize=(12, 6))\n",
    "    plt.plot(data, label='Original Data', marker='o')\n",
    "    # plt.plot(sma, label='SMA 3-period', linestyle='--')\n",
    "    # plt.plot(ema, label='EMA 3-period', linestyle='--')\n",
    "    plt.plot(range(len(data)), intercept + slope * np.asarray(range(len(data))), 'r', label=f'Trend Line: slope={slope:.2f}')\n",
    "    plt.legend()\n",
    "    plt.title(title)\n",
    "    plt.show()\n",
    "\n",
    "    # 输出线性回归结果\n",
    "    print(f\"Slope of trend line: {slope:.2f}\")\n",
    "    print(f\"R-squared: {r_value**2:.2f}\")\n",
    "    print(f\"P-value of trend line: {p_value:.2f}\")\n",
    "\n",
    "    # 如果斜率显著大于0，我们可以认为存在上升趋势\n",
    "    if p_value < 0.05 and slope > 0:\n",
    "        print(\"The data shows a statistically significant increasing trend.\")\n",
    "        return 'rise'\n",
    "    else:\n",
    "        print(\"The data does not show a statistically significant increasing trend.\")\n",
    "        return 'false'"
   ]
  },
  {
   "cell_type": "code",
   "execution_count": null,
   "metadata": {},
   "outputs": [],
   "source": [
    "from pathlib import Path\n",
    "\n",
    "\n",
    "# bug_free_log_path = Path(os.path.join('logs', 'archived_logs', 'temp'))\n",
    "bug_free_log_path = Path(os.path.join('logs', 'archived_logs', 'ppo_bug15'))\n",
    "\n",
    "# 使用 Path.rglob() 获取所有子文件\n",
    "# '**/*' 表示匹配所有的文件和文件夹, 如果只想匹配文件, 使用 '**/*.*'\n",
    "bug_free_log_list = [file for file in bug_free_log_path.rglob('*') if file.is_file()]\n",
    "\n",
    "print(bug_free_log_list)\n",
    "\n",
    "# accuracy_list = []\n",
    "# 打印所有文件路径\n",
    "result = []\n",
    "for path in bug_free_log_list:\n",
    "    # print(log_parser.parse_log_file(path))\n",
    "    data = log_parser.parse_log_file_fuzzy(path)\n",
    "    if len(data)> 0:\n",
    "        temp = linelar_regression(data, title=path)\n",
    "    result.append(temp)\n",
    "\n",
    "print(result)"
   ]
  },
  {
   "cell_type": "markdown",
   "metadata": {},
   "source": [
    "##### MountainCar-continous"
   ]
  },
  {
   "cell_type": "code",
   "execution_count": 2,
   "metadata": {},
   "outputs": [
    {
     "name": "stdout",
     "output_type": "stream",
     "text": [
      "[]\n",
      "[]\n"
     ]
    }
   ],
   "source": [
    "import log_parser\n",
    "import pandas as pd\n",
    "from scipy.stats import linregress\n",
    "import matplotlib.pyplot as plt\n",
    "import numpy as np\n",
    "import os\n",
    "from pathlib import Path\n",
    "\n",
    "\n",
    "def linelar_regression(data, title = 'Data Trend Analysis'):\n",
    "# data = [100, 102, 98, 97, 105, 110, 108, 112, 115, 118, 121, 125]\n",
    "# data = result\n",
    "\n",
    "    # 将数据转换成Pandas Series对象\n",
    "    series = pd.Series(data)\n",
    "\n",
    "    # 计算简单移动平均(SMA)和指数移动平均(EMA)\n",
    "    sma = series.rolling(window=3).mean()\n",
    "    ema = series.ewm(span=3, adjust=False).mean()\n",
    "\n",
    "    # 使用线性回归判断趋势\n",
    "    slope, intercept, r_value, p_value, std_err = linregress(range(len(data)), data)\n",
    "\n",
    "    # 绘制数据和趋势线\n",
    "    plt.figure(figsize=(12, 6))\n",
    "    plt.plot(data, label='Original Data', marker='o')\n",
    "    # plt.plot(sma, label='SMA 3-period', linestyle='--')\n",
    "    # plt.plot(ema, label='EMA 3-period', linestyle='--')\n",
    "    plt.plot(range(len(data)), intercept + slope * np.asarray(range(len(data))), 'r', label=f'Trend Line: slope={slope:.2f}')\n",
    "    plt.legend()\n",
    "    plt.title(title)\n",
    "    plt.show()\n",
    "\n",
    "    # 输出线性回归结果\n",
    "    print(f\"Slope of trend line: {slope:.2f}\")\n",
    "    print(f\"R-squared: {r_value**2:.2f}\")\n",
    "    print(f\"P-value of trend line: {p_value:.2f}\")\n",
    "\n",
    "    # 如果斜率显著大于0，我们可以认为存在上升趋势\n",
    "    if p_value < 0.05 and slope > 0:\n",
    "        print(\"The data shows a statistically significant increasing trend.\")\n",
    "        return 'rise'\n",
    "    else:\n",
    "        print(\"The data does not show a statistically significant increasing trend.\")\n",
    "        return 'false'\n",
    "\n",
    "\n",
    "# bug_free_log_path = Path(os.path.join('logs', 'archived_logs', 'temp'))\n",
    "bug_free_log_path = Path(os.path.join('logs', 'Mountaincar', '[]'))\n",
    "\n",
    "# 使用 Path.rglob() 获取所有子文件\n",
    "# '**/*' 表示匹配所有的文件和文件夹, 如果只想匹配文件, 使用 '**/*.*'\n",
    "bug_free_log_list = [file for file in bug_free_log_path.rglob('*') if file.is_file()]\n",
    "\n",
    "print(bug_free_log_list)\n",
    "\n",
    "# accuracy_list = []\n",
    "# 打印所有文件路径\n",
    "result = []\n",
    "for path in bug_free_log_list:\n",
    "    data = log_parser.parse_mountaincar_log_file(path)\n",
    "    if len(data) > 0:\n",
    "        temp = linelar_regression(data, title=path)\n",
    "    result.append(temp)\n",
    "\n",
    "print(result)"
   ]
  }
 ],
 "metadata": {
  "kernelspec": {
   "display_name": "SB3Testing",
   "language": "python",
   "name": "python3"
  },
  "language_info": {
   "codemirror_mode": {
    "name": "ipython",
    "version": 3
   },
   "file_extension": ".py",
   "mimetype": "text/x-python",
   "name": "python",
   "nbconvert_exporter": "python",
   "pygments_lexer": "ipython3",
   "version": "3.9.18"
  },
  "orig_nbformat": 4
 },
 "nbformat": 4,
 "nbformat_minor": 2
}
