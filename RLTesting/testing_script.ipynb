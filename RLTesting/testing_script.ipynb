{
 "cells": [
  {
   "cell_type": "markdown",
   "metadata": {},
   "source": [
    "## Inject Bugs & Run Experiment\n",
    "\n",
    "![Inject Bugs & Run Experiment](./pic/RL_Testing.drawio.png)"
   ]
  },
  {
   "cell_type": "markdown",
   "metadata": {},
   "source": [
    "#### Frozenlake Testbed Experiment\n",
    "\n",
    "- Find log files in RLTestig/logs/frozenlake"
   ]
  },
  {
   "cell_type": "code",
   "execution_count": null,
   "metadata": {},
   "outputs": [],
   "source": [
    "import bug_lib as BL\n",
    "\n",
    "\n",
    "bug_version_list = [\n",
    "    [],\n",
    "    [0],\n",
    "    [1],\n",
    "    [2],\n",
    "    [3],\n",
    "    [4],\n",
    "    [6],\n",
    "    [7],\n",
    "    [8],\n",
    "    [9],\n",
    "    [10],\n",
    "    [11],\n",
    "    [12],\n",
    "    [13],\n",
    "    [14],\n",
    "    [15],\n",
    "]\n",
    "\n",
    "bug_version = [4]\n"
   ]
  },
  {
   "cell_type": "code",
   "execution_count": null,
   "metadata": {},
   "outputs": [],
   "source": [
    "\n",
    "BL.cover_then_inject_bugs(bug_version)\n",
    "    \n",
    "# After this step, Restart the ipynb environment"
   ]
  },
  {
   "cell_type": "code",
   "execution_count": null,
   "metadata": {},
   "outputs": [],
   "source": [
    "import frozenlake.testing_SB3_Frozenlake as Frozenlake_Experiment\n",
    "Frozenlake_Experiment.main(bug_version=bug_version, rounds=2, epochs=300, model_type='dqn')"
   ]
  },
  {
   "cell_type": "markdown",
   "metadata": {},
   "source": [
    "#### Mountaincar Testbed (continous) Experiment\n",
    "\n",
    "- Find log files in RLTestig/logs/mountaincar"
   ]
  },
  {
   "cell_type": "code",
   "execution_count": null,
   "metadata": {},
   "outputs": [],
   "source": [
    "import bug_lib as BL\n",
    "\n",
    "\n",
    "bug_version_list = [\n",
    "    [],\n",
    "    [5],\n",
    "    [6],\n",
    "    [7],\n",
    "    [8],\n",
    "    [10],\n",
    "    [11],\n",
    "    [12],\n",
    "    [13],\n",
    "    [14],\n",
    "    [15]\n",
    "]\n",
    "\n",
    "bug_version = [5]"
   ]
  },
  {
   "cell_type": "code",
   "execution_count": null,
   "metadata": {},
   "outputs": [],
   "source": [
    "BL.cover_then_inject_bugs(bug_version)"
   ]
  },
  {
   "cell_type": "code",
   "execution_count": null,
   "metadata": {},
   "outputs": [],
   "source": [
    "import mountaincar.testing_SB3_Mountaincar as Mountaincar_Experiment\n",
    "\n",
    "bug_version_list = [\n",
    "    [],\n",
    "    [5],\n",
    "    [6],\n",
    "    [7],\n",
    "    [8],\n",
    "    [10],\n",
    "    # [11],\n",
    "    # [12],\n",
    "    # [13],\n",
    "    # [14],\n",
    "    # [15]\n",
    "]\n",
    "\n",
    "Mountaincar_Experiment.main(bug_version_list=bug_version_list, rounds=10, epochs=300, model_type='a2c')\n",
    "\n",
    "\n"
   ]
  },
  {
   "cell_type": "markdown",
   "metadata": {},
   "source": [
    "## Validation Part"
   ]
  },
  {
   "cell_type": "code",
   "execution_count": null,
   "metadata": {},
   "outputs": [],
   "source": [
    "import log_parser\n",
    "import pandas as pd\n",
    "from scipy.stats import linregress\n",
    "import matplotlib.pyplot as plt\n",
    "import numpy as np\n",
    "import os\n",
    "from pathlib import Path\n",
    "import config_parser\n",
    "from scipy.stats import binomtest\n",
    "\n",
    "\n",
    "root_dir = config_parser.parserConfig()['root_dir']\n",
    "\n",
    "\n",
    "def linelar_regression(data, title = 'Data Trend Analysis', show=False):\n",
    "\n",
    "    # 将数据转换成Pandas Series对象\n",
    "    series = pd.Series(data)\n",
    "\n",
    "    # 计算简单移动平均(SMA)和指数移动平均(EMA)\n",
    "    sma = series.rolling(window=3).mean()\n",
    "    ema = series.ewm(span=3, adjust=False).mean()\n",
    "\n",
    "    # 使用线性回归判断趋势\n",
    "    slope, intercept, r_value, p_value, std_err = linregress(range(len(data)), data)\n",
    "    \n",
    "    if show:\n",
    "        # 绘制数据和趋势线\n",
    "        plt.figure(figsize=(12, 6))\n",
    "        plt.plot(data, label='Original Data', marker='o')\n",
    "        plt.plot(range(len(data)), intercept + slope * np.asarray(range(len(data))), 'r', label=f'Trend Line: slope={slope:.2f}')\n",
    "        plt.legend()\n",
    "        plt.title(title)\n",
    "        plt.show()\n",
    "\n",
    "    # 输出线性回归结果\n",
    "    # print(f\"Slope of trend line: {slope:.2f}\")\n",
    "\n",
    "    # 如果斜率显著小于0，我们可以认为不存在上升趋势\n",
    "    if slope < 0:\n",
    "        return 'false'\n",
    "    else:\n",
    "        return 'true'\n",
    "    \n",
    "\n",
    "def test_true_proportion(num_samples, num_true, sig_level=0.05, expected_prob=0.95):\n",
    "    \"\"\"\n",
    "    对观察到的 'true' 样本数进行二项检验。\n",
    "\n",
    "    :param num_samples: 样本总数\n",
    "    :param num_true: 观察到的 'true' 样本数\n",
    "    :param sig_level: 显著性水平（默认为 0.05）\n",
    "    :param expected_prob: 预期成功概率（默认为 0.5）\n",
    "    :return: p 值和是否显著\n",
    "    \"\"\"\n",
    "    # 计算二项检验的 p 值\n",
    "    p_value = binomtest(k=num_true, n=num_samples, p=expected_prob, alternative='greater')\n",
    "\n",
    "    # 判断是否显著\n",
    "    is_significant = p_value < sig_level\n",
    "\n",
    "    return p_value, is_significant\n",
    "\n",
    "\n",
    "def bin_test_frozenlake(bug_free_log_path = Path(os.path.join(root_dir, 'RLTesting', 'logs', 'Frozenlake', 'dqn', '[]')), show_fig=False):\n",
    "    # 使用 Path.rglob() 获取所有子文件\n",
    "    # '**/*' 表示匹配所有的文件和文件夹, 如果只想匹配文件, 使用 '**/*.*'\n",
    "    bug_free_log_list = [file for file in bug_free_log_path.rglob('*') if file.is_file()]\n",
    "    print(bug_free_log_list)\n",
    "\n",
    "    result = []\n",
    "    for path in bug_free_log_list:\n",
    "        # print(log_parser.parse_log_file(path))\n",
    "        data = log_parser.parse_log_file_fuzzy(path)\n",
    "        if len(data)> 0:\n",
    "            temp = linelar_regression(data, title=path, show=show_fig)\n",
    "        result.append(temp)\n",
    "\n",
    "    p_value = binomtest(result.count('true'), len(result), alternative='greater')\n",
    "    print(p_value)\n",
    "\n",
    "    \n",
    "    \n",
    "def bin_test_mountaincar(bug_free_log_path = Path(os.path.join(root_dir, 'RLTesting', 'logs', 'Mountaincar', 'sac', '[]')), show_fig=False):\n",
    "    # 使用 Path.rglob() 获取所有子文件\n",
    "    # '**/*' 表示匹配所有的文件和文件夹, 如果只想匹配文件, 使用 '**/*.*'\n",
    "    bug_free_log_list = [file for file in bug_free_log_path.rglob('*') if file.is_file()]\n",
    "\n",
    "    print(bug_free_log_list)\n",
    "\n",
    "    # accuracy_list = []\n",
    "    # 打印所有文件路径\n",
    "    result = []\n",
    "    for path in bug_free_log_list:\n",
    "        data = log_parser.parse_mountaincar_log_file(path)\n",
    "        if len(data) > 0:\n",
    "            temp = linelar_regression(data, title=path, show=show_fig)\n",
    "        result.append(temp)\n",
    "    \n",
    "    \n",
    "    '''\n",
    "    在进行二项检验时，零假设（null hypothesis）通常是观察到的成功次数与随机变化相一致，即成功的概率等于 expected_prob。如果实际观察到的成功次数显著高于（或低于）这个期望成功概率，那么您可能会得到一个很小的 p 值，从而拒绝零假设。\n",
    "    '''\n",
    "    p_value = binomtest(result.count('true'), len(result), alternative='greater')\n",
    "    print(p_value)\n",
    "\n"
   ]
  },
  {
   "cell_type": "code",
   "execution_count": null,
   "metadata": {},
   "outputs": [],
   "source": [
    "# bin_test_frozenlake(bug_free_log_path = Path(os.path.join(root_dir, 'RLTesting', 'logs', 'Frozenlake', 'dqn', '[]')), show_fig=False)\n",
    "# bin_test_mountaincar(bug_free_log_path = Path(os.path.join(root_dir, 'RLTesting', 'logs', 'Mountaincar', 'sac', '[6]')), show_fig=True)\n",
    "bin_test_frozenlake(bug_free_log_path = Path(os.path.join(root_dir, 'RLTesting', 'logs', 'Frozenlake', 'dqn', '[4]')), show_fig=True)"
   ]
  }
 ],
 "metadata": {
  "kernelspec": {
   "display_name": "SB3Testing",
   "language": "python",
   "name": "python3"
  },
  "language_info": {
   "codemirror_mode": {
    "name": "ipython",
    "version": 3
   },
   "file_extension": ".py",
   "mimetype": "text/x-python",
   "name": "python",
   "nbconvert_exporter": "python",
   "pygments_lexer": "ipython3",
   "version": "3.10.13"
  },
  "orig_nbformat": 4
 },
 "nbformat": 4,
 "nbformat_minor": 2
}
